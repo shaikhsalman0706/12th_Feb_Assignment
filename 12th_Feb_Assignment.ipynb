{
 "cells": [
  {
   "cell_type": "markdown",
   "id": "203c35b0",
   "metadata": {},
   "source": [
    "### Q1. What is an Exception in Python? Write the difference between Exceptions and syntax error."
   ]
  },
  {
   "cell_type": "markdown",
   "id": "3cd7078c",
   "metadata": {},
   "source": [
    "#### An exception in Python is an abnormal event or runtime error that occurs when a program is executed. Exceptions are usually raised when the program encounters unexpected or erroneous conditions such as an index out-of-bounds error, a divide-by-zero error, or an input/output error.\n",
    "\n",
    "#### The difference between exceptions and syntax errors is that syntax errors occur when the Python interpreter encounters incorrect syntax in the program source code, and it raises a SyntaxError exception. On the other hand, exceptions are raised at runtime when the program encounters unexpected conditions such as a file not found error or an attempt to divide by zero. Syntax errors are easier to detect and fix because they are caught by the Python interpreter at the time the code is compiled. Exceptions, on the other hand, are raised during the execution of the program, and may not be detected immediately."
   ]
  },
  {
   "cell_type": "markdown",
   "id": "dcf8cf33",
   "metadata": {},
   "source": [
    "### Q2. What happens when an exception is not handled? Explain with an example."
   ]
  },
  {
   "cell_type": "markdown",
   "id": "69e44ef9",
   "metadata": {},
   "source": [
    "#### When an exception is not handled, it can lead to the termination of the program, and the Python interpreter will raise an unhandled exception error message. This error message will contain the type of exception that was raised and a traceback of the code that caused the exception to be raised."
   ]
  },
  {
   "cell_type": "code",
   "execution_count": 1,
   "id": "056e6f9a",
   "metadata": {},
   "outputs": [
    {
     "name": "stdout",
     "output_type": "stream",
     "text": [
      "Enter numerator: 1\n",
      "Enter denominator: 0\n"
     ]
    },
    {
     "ename": "ZeroDivisionError",
     "evalue": "division by zero",
     "output_type": "error",
     "traceback": [
      "\u001b[1;31m---------------------------------------------------------------------------\u001b[0m",
      "\u001b[1;31mZeroDivisionError\u001b[0m                         Traceback (most recent call last)",
      "\u001b[1;32m~\\AppData\\Local\\Temp\\ipykernel_2492\\1304326013.py\u001b[0m in \u001b[0;36m<module>\u001b[1;34m\u001b[0m\n\u001b[0;32m      4\u001b[0m \u001b[0mnum1\u001b[0m \u001b[1;33m=\u001b[0m \u001b[0mint\u001b[0m\u001b[1;33m(\u001b[0m\u001b[0minput\u001b[0m\u001b[1;33m(\u001b[0m\u001b[1;34m\"Enter numerator: \"\u001b[0m\u001b[1;33m)\u001b[0m\u001b[1;33m)\u001b[0m\u001b[1;33m\u001b[0m\u001b[1;33m\u001b[0m\u001b[0m\n\u001b[0;32m      5\u001b[0m \u001b[0mnum2\u001b[0m \u001b[1;33m=\u001b[0m \u001b[0mint\u001b[0m\u001b[1;33m(\u001b[0m\u001b[0minput\u001b[0m\u001b[1;33m(\u001b[0m\u001b[1;34m\"Enter denominator: \"\u001b[0m\u001b[1;33m)\u001b[0m\u001b[1;33m)\u001b[0m\u001b[1;33m\u001b[0m\u001b[1;33m\u001b[0m\u001b[0m\n\u001b[1;32m----> 6\u001b[1;33m \u001b[0mresult\u001b[0m \u001b[1;33m=\u001b[0m \u001b[0mdivide\u001b[0m\u001b[1;33m(\u001b[0m\u001b[0mnum1\u001b[0m\u001b[1;33m,\u001b[0m \u001b[0mnum2\u001b[0m\u001b[1;33m)\u001b[0m\u001b[1;33m\u001b[0m\u001b[1;33m\u001b[0m\u001b[0m\n\u001b[0m\u001b[0;32m      7\u001b[0m \u001b[0mprint\u001b[0m\u001b[1;33m(\u001b[0m\u001b[1;34m\"Result:\"\u001b[0m\u001b[1;33m,\u001b[0m \u001b[0mresult\u001b[0m\u001b[1;33m)\u001b[0m\u001b[1;33m\u001b[0m\u001b[1;33m\u001b[0m\u001b[0m\n",
      "\u001b[1;32m~\\AppData\\Local\\Temp\\ipykernel_2492\\1304326013.py\u001b[0m in \u001b[0;36mdivide\u001b[1;34m(a, b)\u001b[0m\n\u001b[0;32m      1\u001b[0m \u001b[1;32mdef\u001b[0m \u001b[0mdivide\u001b[0m\u001b[1;33m(\u001b[0m\u001b[0ma\u001b[0m\u001b[1;33m,\u001b[0m \u001b[0mb\u001b[0m\u001b[1;33m)\u001b[0m\u001b[1;33m:\u001b[0m\u001b[1;33m\u001b[0m\u001b[1;33m\u001b[0m\u001b[0m\n\u001b[1;32m----> 2\u001b[1;33m     \u001b[1;32mreturn\u001b[0m \u001b[0ma\u001b[0m \u001b[1;33m/\u001b[0m \u001b[0mb\u001b[0m\u001b[1;33m\u001b[0m\u001b[1;33m\u001b[0m\u001b[0m\n\u001b[0m\u001b[0;32m      3\u001b[0m \u001b[1;33m\u001b[0m\u001b[0m\n\u001b[0;32m      4\u001b[0m \u001b[0mnum1\u001b[0m \u001b[1;33m=\u001b[0m \u001b[0mint\u001b[0m\u001b[1;33m(\u001b[0m\u001b[0minput\u001b[0m\u001b[1;33m(\u001b[0m\u001b[1;34m\"Enter numerator: \"\u001b[0m\u001b[1;33m)\u001b[0m\u001b[1;33m)\u001b[0m\u001b[1;33m\u001b[0m\u001b[1;33m\u001b[0m\u001b[0m\n\u001b[0;32m      5\u001b[0m \u001b[0mnum2\u001b[0m \u001b[1;33m=\u001b[0m \u001b[0mint\u001b[0m\u001b[1;33m(\u001b[0m\u001b[0minput\u001b[0m\u001b[1;33m(\u001b[0m\u001b[1;34m\"Enter denominator: \"\u001b[0m\u001b[1;33m)\u001b[0m\u001b[1;33m)\u001b[0m\u001b[1;33m\u001b[0m\u001b[1;33m\u001b[0m\u001b[0m\n",
      "\u001b[1;31mZeroDivisionError\u001b[0m: division by zero"
     ]
    }
   ],
   "source": [
    "def divide(a, b):\n",
    "    return a / b\n",
    "\n",
    "num1 = int(input(\"Enter numerator: \"))\n",
    "num2 = int(input(\"Enter denominator: \"))\n",
    "result = divide(num1, num2)\n",
    "print(\"Result:\", result)"
   ]
  },
  {
   "cell_type": "markdown",
   "id": "392e1066",
   "metadata": {},
   "source": [
    "##### If the user enters a value of 0 for the denominator, the divide function will raise a ZeroDivisionError exception. If this exception is not handled, the program will terminate with the following error message:"
   ]
  },
  {
   "cell_type": "markdown",
   "id": "be629493",
   "metadata": {},
   "source": [
    "### Q3. Which Python statements are used to catch and handle exceptions? Explain with an example."
   ]
  },
  {
   "cell_type": "markdown",
   "id": "a37bd8c2",
   "metadata": {},
   "source": [
    "#### The Python try and except statements are used to catch and handle exceptions. \n",
    "#### The basic syntax for using these statements is as follows:\n",
    "\n",
    "##### try:\n",
    "    # code that might raise an exception\n",
    "##### except ExceptionType as variable:\n",
    "    # code to handle the exception"
   ]
  },
  {
   "cell_type": "markdown",
   "id": "187a367f",
   "metadata": {},
   "source": [
    "#### Here, the try block contains the code that might raise an exception, and the except block contains the code that will be executed if an exception of type ExceptionType is raised. The ExceptionType is the type of exception that you want to catch, and variable is an optional variable that will hold the exception object if an exception is raised."
   ]
  },
  {
   "cell_type": "code",
   "execution_count": 3,
   "id": "68a81599",
   "metadata": {},
   "outputs": [
    {
     "name": "stdout",
     "output_type": "stream",
     "text": [
      "Enter numerator: 1\n",
      "Enter denominator: 0\n",
      "Error: Division by zero\n"
     ]
    }
   ],
   "source": [
    "try:\n",
    "    num1 = int(input(\"Enter numerator: \"))\n",
    "    num2 = int(input(\"Enter denominator: \"))\n",
    "    result = num1 / num2\n",
    "except ZeroDivisionError as e:\n",
    "    print(\"Error: Division by zero\")\n",
    "except ValueError as e:\n",
    "    print(\"Error: Invalid input\")\n",
    "else:\n",
    "    print(\"Result:\", result)"
   ]
  },
  {
   "cell_type": "markdown",
   "id": "dae51642",
   "metadata": {},
   "source": [
    "### Q4. Explain with an example:\n",
    "### a. try and else\n",
    "### b. finally\n",
    "### c. raise"
   ]
  },
  {
   "cell_type": "markdown",
   "id": "7a891e60",
   "metadata": {},
   "source": [
    "#### a. try and else:\n",
    "\n",
    "#### The else block in a try-except statement is executed when no exceptions are raised in the try block. It provides a convenient way to separate the code that should be executed when everything goes as expected from the code that should be executed when an exception is raised.\n",
    "#### In below example, the code in the try block takes two numbers as input from the user and divides the first number by the second number. If a ZeroDivisionError exception is raised (i.e., the user entered 0 as the second number), the code in the except block will be executed, and an error message \"Error: Division by zero\" will be printed. If no exceptions are raised, the code in the else block will be executed, and the result of the division will be printed."
   ]
  },
  {
   "cell_type": "code",
   "execution_count": 6,
   "id": "71477716",
   "metadata": {},
   "outputs": [
    {
     "name": "stdout",
     "output_type": "stream",
     "text": [
      "Enter first number: 1\n",
      "Enter second number: 2\n",
      "Result: 0.5\n"
     ]
    }
   ],
   "source": [
    "try:\n",
    "    num1 = int(input(\"Enter first number: \"))\n",
    "    num2 = int(input(\"Enter second number: \"))\n",
    "    result = num1 / num2\n",
    "except ZeroDivisionError as e:\n",
    "    print(\"Error: Division by zero\")\n",
    "else:\n",
    "    print(\"Result:\", result)"
   ]
  },
  {
   "cell_type": "markdown",
   "id": "429902f7",
   "metadata": {},
   "source": [
    "#### b. finally:\n",
    "\n",
    "#### The finally block in a try-except statement is executed regardless of whether an exception was raised or not. It provides a convenient way to ensure that certain code is executed after the try block, regardless of whether an exception was raised or not."
   ]
  },
  {
   "cell_type": "code",
   "execution_count": 7,
   "id": "57114706",
   "metadata": {},
   "outputs": [
    {
     "name": "stdout",
     "output_type": "stream",
     "text": [
      "Enter first number: 1\n",
      "Enter second number: 2\n",
      "Result: 0.5\n",
      "Exiting the program.\n"
     ]
    }
   ],
   "source": [
    "try:\n",
    "    num1 = int(input(\"Enter first number: \"))\n",
    "    num2 = int(input(\"Enter second number: \"))\n",
    "    result = num1 / num2\n",
    "except ZeroDivisionError as e:\n",
    "    print(\"Error: Division by zero\")\n",
    "else:\n",
    "    print(\"Result:\", result)\n",
    "finally:\n",
    "    print(\"Exiting the program.\")"
   ]
  },
  {
   "cell_type": "markdown",
   "id": "edbf0e05",
   "metadata": {},
   "source": [
    "#### c. raise:\n",
    "\n",
    "#### The raise statement is used to raise an exception explicitly in the code. This can be useful when you want to raise a custom exception or when you want to re-raise an exception that was caught in an except block."
   ]
  },
  {
   "cell_type": "code",
   "execution_count": 9,
   "id": "38a602b9",
   "metadata": {},
   "outputs": [
    {
     "name": "stdout",
     "output_type": "stream",
     "text": [
      "Enter first number: 1\n",
      "Enter second number: 0\n",
      "Error: division by zero\n"
     ]
    }
   ],
   "source": [
    "def calculate_ratio(num1, num2):\n",
    "    if num2 == 0:\n",
    "        raise ZeroDivisionError(\"division by zero\")\n",
    "    return num1 / num2\n",
    "\n",
    "try:\n",
    "    num1 = int(input(\"Enter first number: \"))\n",
    "    num2 = int(input(\"Enter second number: \"))\n",
    "    result = calculate_ratio(num1, num2)\n",
    "except ZeroDivisionError as e:\n",
    "    print(\"Error:\", e)\n",
    "else:\n",
    "    print(\"Result:\",result)"
   ]
  },
  {
   "cell_type": "markdown",
   "id": "ce9ce2fd",
   "metadata": {},
   "source": [
    "### Q5. What are Custom Exceptions in Python? Why do we need Custom Exceptions? Explain with an example."
   ]
  },
  {
   "cell_type": "markdown",
   "id": "f909d668",
   "metadata": {},
   "source": [
    "#### Custom exceptions are exceptions that are defined by the programmer and can be raised whenever the programmer wants. They are used to signal error conditions that are specific to the application or library being written, and they provide a way to handle errors in a structured and predictable manner.\n",
    "\n",
    "####  The built-in exceptions in Python cover a wide range of error conditions, but they may not be specific enough for the needs of a particular application. In such cases, custom exceptions can be defined to provide more specific information about the error that has occurred."
   ]
  },
  {
   "cell_type": "code",
   "execution_count": 10,
   "id": "878360ad",
   "metadata": {},
   "outputs": [
    {
     "name": "stdout",
     "output_type": "stream",
     "text": [
      "Enter first number: 1\n",
      "Enter second number: 0\n",
      "Error: division by zero\n"
     ]
    }
   ],
   "source": [
    "class InvalidInputError(Exception):\n",
    "    def __init__(self, message):\n",
    "        self.message = message\n",
    "\n",
    "def calculate_ratio(num1, num2):\n",
    "    if num2 == 0:\n",
    "        raise InvalidInputError(\"division by zero\")\n",
    "    return num1 / num2\n",
    "\n",
    "try:\n",
    "    num1 = int(input(\"Enter first number: \"))\n",
    "    num2 = int(input(\"Enter second number: \"))\n",
    "    result = calculate_ratio(num1, num2)\n",
    "except InvalidInputError as e:\n",
    "    print(\"Error:\", e)\n",
    "else:\n",
    "    print(\"Result:\", result)"
   ]
  },
  {
   "cell_type": "markdown",
   "id": "32cbd59a",
   "metadata": {},
   "source": [
    "##### In this example, a custom exception InvalidInputError is defined by creating a subclass of the built-in Exception class. The __init__ method takes a message argument that can be used to provide a more specific error message. The custom exception is raised in the calculate_ratio function if the second input is zero, which would result in a division by zero. The custom exception can be caught and handled in the try-except block, just like any other exception. The error message can be obtained from the message attribute of the exception object."
   ]
  },
  {
   "cell_type": "markdown",
   "id": "e39d06d8",
   "metadata": {},
   "source": [
    "### Q6. Create custom exception class. Use this class to handle an exception."
   ]
  },
  {
   "cell_type": "code",
   "execution_count": 11,
   "id": "d0d1a3fe",
   "metadata": {},
   "outputs": [
    {
     "name": "stdout",
     "output_type": "stream",
     "text": [
      "CustomException caught: This is a custom exception\n"
     ]
    }
   ],
   "source": [
    "class CustomException(Exception):\n",
    "    def __init__(self, message):\n",
    "        self.message = message\n",
    "\n",
    "try:\n",
    "    raise CustomException(\"This is a custom exception\")\n",
    "except CustomException as e:\n",
    "    print(\"CustomException caught:\", e.message)"
   ]
  },
  {
   "cell_type": "markdown",
   "id": "d252229e",
   "metadata": {},
   "source": [
    "##### In this example, a custom exception class CustomException is defined by creating a subclass of the built-in Exception class. The __init__ method takes a message argument that can be used to provide a more specific error message. The custom exception can be raised using the raise statement, and it can be caught and handled in the try-except block, just like any other exception. The error message can be obtained from the message attribute of the exception object."
   ]
  },
  {
   "cell_type": "code",
   "execution_count": null,
   "id": "007d0e6c",
   "metadata": {},
   "outputs": [],
   "source": []
  }
 ],
 "metadata": {
  "kernelspec": {
   "display_name": "Python 3 (ipykernel)",
   "language": "python",
   "name": "python3"
  },
  "language_info": {
   "codemirror_mode": {
    "name": "ipython",
    "version": 3
   },
   "file_extension": ".py",
   "mimetype": "text/x-python",
   "name": "python",
   "nbconvert_exporter": "python",
   "pygments_lexer": "ipython3",
   "version": "3.9.13"
  }
 },
 "nbformat": 4,
 "nbformat_minor": 5
}
